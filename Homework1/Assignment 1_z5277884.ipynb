{
 "cells": [
  {
   "cell_type": "markdown",
   "metadata": {},
   "source": [
    "## COMP9417 20T1 Assignment 01"
   ]
  },
  {
   "cell_type": "markdown",
   "metadata": {},
   "source": [
    "### Student Name: Minrui Lu\n",
    "### Student Number: z5277884"
   ]
  },
  {
   "cell_type": "code",
   "execution_count": 1,
   "metadata": {},
   "outputs": [
    {
     "name": "stdout",
     "output_type": "stream",
     "text": [
      "In the regression model for house age, the theta 0 is 42.54098352098717,and the theta_1 is -10.321581018919572\n",
      "RMSE for house age training set is 12.045471635151399,and RMSE for house age test set is 16.587314577458564\n",
      "In the regression model for distance to the nearest MRT station, the theta 0 is 44.76248196156705,and the theta_1 is -46.474566532140706\n",
      "RMSE for distance to the nearest MRT station training set is 9.165812661768193,and RMSE for house age test set is 12.65187816696171\n",
      "In the regression model for number of convenience stores, the theta 0 is 27.486960274404385,and the theta_1 is 25.640465112647917\n",
      "RMSE for number of convenience stores training set is 9.834850879113743,and RMSE for house age test set is 14.732079954030375\n"
     ]
    },
    {
     "data": {
      "image/png": "[encoded data removed]",
      "text/plain": [
       "<Figure size 432x288 with 1 Axes>"
      ]
     },
     "metadata": {
      "needs_background": "light"
     },
     "output_type": "display_data"
    }
   ],
   "source": [
    "%matplotlib inline\n",
    "import pandas as pd\n",
    "import numpy as np\n",
    "import matplotlib.pyplot as plt\n",
    "from sklearn.model_selection import train_test_split\n",
    "\n",
    "# prediction for instance x\n",
    "def h(x,theta_0,theta_1):\n",
    "    return (theta_0+theta_1*x)\n",
    "\n",
    "# function of Stochastic Gradient Descent\n",
    "def sgd(train_x,train_y,theta_0=-1,theta_1=-0.5,alpha=0.01):\n",
    "    J_values = []\n",
    "    for j in range(50):\n",
    "        J_value = 0\n",
    "        for i in range(train_x.shape[0]):\n",
    "            theta_0 = theta_0 + alpha*(train_y[i]-h(train_x[i],theta_0,theta_1))\n",
    "            theta_1 = theta_1 + alpha*\\\n",
    "            (train_y[i]-h(train_x[i],theta_0,theta_1))*train_x[i]\n",
    "            J_value += (train_y[i]-h(train_x[i],theta_0,theta_1))**2\n",
    "        J_values.append(J_value/train_x.shape[0])\n",
    "    return theta_0,theta_1,J_values\n",
    "\n",
    "# Normalize feature data and creat training sets and test sets\n",
    "def pre_process(filename):\n",
    "    # Read data file\n",
    "    df = pd.read_csv(filename)\n",
    "    min_list =[]\n",
    "    max_list=[]\n",
    "    for i in range(1,len(df.columns)-1):\n",
    "        min_list.append(min(df[df.columns[i]]))\n",
    "        max_list.append(max(df[df.columns[i]]))\n",
    "        df[df.columns[i]] = (df[df.columns[i]]-min_list[i-1])\\\n",
    "        /(max_list[i-1]-min_list[i-1])\n",
    "    # Data Split\n",
    "    data_x = df.iloc[:,:-1]\n",
    "    data_y = df.iloc[:,-1]\n",
    "    # 300 rows for training and 100 rows for testing\n",
    "    train_x,test_x,train_y,test_y = train_test_split\\\n",
    "    (data_x,data_y,test_size=0.25,shuffle=False)\n",
    "    return (df,train_x,test_x,train_y,test_y)\n",
    "\n",
    "# Build a linear regression model for given feature name\n",
    "def feature_regression(train_x,test_x,train_y,test_y,feature_name):\n",
    "    train_x = train_x[feature_name]\n",
    "    test_x = test_x[feature_name]\n",
    "    theta_0,theta_1,J_values = sgd(train_x,train_y)\n",
    "    RMSE_train =0\n",
    "    RMSE_test = 0\n",
    "    for i in range(train_y.shape[0]):\n",
    "        RMSE_train += (train_y[i]-h(train_x[i],theta_0,theta_1))**2\n",
    "    for i in range(train_y.shape[0],train_y.shape[0]+test_y.shape[0]):\n",
    "        RMSE_test += (test_y[i]-h(test_x[i],theta_0,theta_1))**2\n",
    "    RMSE_train = np.sqrt(RMSE_train/train_y.shape[0])\n",
    "    RMSE_test = np.sqrt(RMSE_test/test_y.shape[0])\n",
    "    print('In the regression model for {0}, the theta 0 is {1},\\\n",
    "and the theta_1 is {2}'.format(feature_name,theta_0,theta_1))\n",
    "    print('RMSE for {0} training set is {1:3},\\\n",
    "and RMSE for house age test set is {2:3}'.\\\n",
    "          format(feature_name,RMSE_train,RMSE_test))\n",
    "    return (J_values)\n",
    "\n",
    "# Plot all regression model's cost functions\n",
    "def plot_all(data):\n",
    "    if(len(data)==0):\n",
    "          print('Input data for plotting is empty, exit now.')\n",
    "          sys.exit()\n",
    "    x_axis = np.arange(len(data[0][0]))\n",
    "    plt.figure()\n",
    "    plt.style.use('seaborn')\n",
    "    for i in range(len(data)):\n",
    "          plt.plot(x_axis,data[i][0],label=data[i][1])\n",
    "    plt.legend()\n",
    "    plt.xlabel('iteration time')\n",
    "    plt.ylabel('cost function')\n",
    "    plt.title('Cost functions for $x$ features')\n",
    "    plt.savefig('plot.png',dpi=1000)\n",
    "    plt.show()\n",
    "          \n",
    "def main():\n",
    "    df,train_x,test_x,train_y,test_y = pre_process('house_prices.csv')\n",
    "    plot_data = []\n",
    "    for feature_name in df.columns[1:-1]:\n",
    "          J_values = feature_regression\\\n",
    "            (train_x,test_x,train_y,test_y,feature_name)\n",
    "          plot_data.append([J_values,feature_name])\n",
    "    plot_all(plot_data)\n",
    "\n",
    "if(__name__==\"__main__\"):\n",
    "    main()\n",
    "    \n",
    "\n"
   ]
  }
 ],
 "metadata": {
  "kernelspec": {
   "display_name": "Python 3",
   "language": "python",
   "name": "python3"
  },
  "language_info": {
   "codemirror_mode": {
    "name": "ipython",
    "version": 3
   },
   "file_extension": ".py",
   "mimetype": "text/x-python",
   "name": "python",
   "nbconvert_exporter": "python",
   "pygments_lexer": "ipython3",
   "version": "3.7.4"
  }
 },
 "nbformat": 4,
 "nbformat_minor": 2
}
