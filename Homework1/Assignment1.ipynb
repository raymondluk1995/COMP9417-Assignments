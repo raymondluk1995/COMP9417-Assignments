{
 "cells": [
  {
   "cell_type": "code",
   "execution_count": 29,
   "metadata": {},
   "outputs": [],
   "source": [
    "%matplotlib inline\n",
    "import pandas as pd\n",
    "import numpy as np\n",
    "import matplotlib.pyplot as plt\n",
    "import seaborn as sns\n",
    "from sklearn import datasets,linear_model\n",
    "from sklearn.metrics import mean_squared_error,r2_score\n",
    "from sklearn.model_selection import train_test_split"
   ]
  },
  {
   "cell_type": "code",
   "execution_count": 41,
   "metadata": {},
   "outputs": [
    {
     "name": "stdout",
     "output_type": "stream",
     "text": [
      "   No  house age  distance to the nearest MRT station  \\\n",
      "0   1   0.150685                             0.010375   \n",
      "1   2   0.468037                             0.334395   \n",
      "2   3   0.684932                             0.153134   \n",
      "3   4   0.294521                             0.035152   \n",
      "4   5   0.671233                             0.694080   \n",
      "\n",
      "   number of convenience stores  house price of unit area  \n",
      "0                           0.9                      58.1  \n",
      "1                           0.3                      25.6  \n",
      "2                           0.5                      22.8  \n",
      "3                           0.7                      39.3  \n",
      "4                           0.1                      13.2  \n"
     ]
    }
   ],
   "source": [
    "df = pd.read_csv('house_prices.csv') \n",
    "min_list =[]\n",
    "max_list=[]\n",
    "for i in range(1,len(df.columns)-1):\n",
    "    min_list.append(min(df[df.columns[i]]))\n",
    "    max_list.append(max(df[df.columns[i]]))\n",
    "    df[df.columns[i]] = (df[df.columns[i]]-min_list[i-1])/(max_list[i-1]-min_list[i-1])\n",
    "print(df.head())"
   ]
  },
  {
   "cell_type": "code",
   "execution_count": 31,
   "metadata": {},
   "outputs": [],
   "source": [
    "# Data Split\n",
    "data_x = df.iloc[:,:-1]\n",
    "data_y = df.iloc[:,-1]\n",
    "train_x,test_x,train_y,test_y = train_test_split(data_x,data_y,test_size=0.25,shuffle=False)\n",
    "# 100 rows for testing"
   ]
  },
  {
   "cell_type": "code",
   "execution_count": 32,
   "metadata": {},
   "outputs": [],
   "source": [
    "def h(x,theta_0,theta_1):\n",
    "    return (theta_0+theta_1*x)\n",
    "\n",
    "# function of Stochastic Gradient Descent\n",
    "def sgd(train_x,train_y,theta_0=-1,theta_1=-0.5,alpha=0.01):\n",
    "    J_values = []\n",
    "    for j in range(50):\n",
    "        J_value = 0\n",
    "        for i in range(train_x.shape[0]):\n",
    "            theta_0 = theta_0 + alpha*(train_y[i]-h(train_x[i],theta_0,theta_1))\n",
    "            theta_1 = theta_1 + alpha*(train_y[i]-h(train_x[i],theta_0,theta_1))*train_x[i]\n",
    "            J_value += (train_y[i]-h(age_train[i],theta_0,theta_1))**2\n",
    "        J_values.append(J_value/train_x.shape[0])\n",
    "    return theta_0,theta_1,J_values"
   ]
  },
  {
   "cell_type": "code",
   "execution_count": 34,
   "metadata": {},
   "outputs": [
    {
     "name": "stdout",
     "output_type": "stream",
     "text": [
      "42.54098352098717 -10.321581018919572\n"
     ]
    }
   ],
   "source": [
    "age_train = train_x[train_x.columns[1]]\n",
    "theta_0,theta_1,J_values_age = sgd(age_train,train_y)\n",
    "print(theta_0,theta_1)"
   ]
  },
  {
   "cell_type": "code",
   "execution_count": 37,
   "metadata": {},
   "outputs": [
    {
     "name": "stdout",
     "output_type": "stream",
     "text": [
      "RMSE for age training set is 12.045471635151399, RMSE for age test set is 16.587314577458564,and the absolute difference is 4.541842942307165\n"
     ]
    }
   ],
   "source": [
    "RMSE_train =0\n",
    "RMSE_test = 0\n",
    "age_test = test_x[test_x.columns[1]]\n",
    "for i in range(train_y.shape[0]):\n",
    "    RMSE_train += (train_y[i]-h(age_train[i],theta_0,theta_1))**2\n",
    "for i in range(train_y.shape[0],data_y.shape[0]):\n",
    "    RMSE_test += (test_y[i]-h(age_test[i],theta_0,theta_1))**2\n",
    "RMSE_train = np.sqrt(RMSE_train/train_y.shape[0])\n",
    "RMSE_test = np.sqrt(RMSE_test/(data_y.shape[0]-train_y.shape[0]))\n",
    "print('RMSE for age training set is {0:3}, RMSE for age test set is {1:3},\\\n",
    "and the absolute difference is {2:3}'.format(RMSE_train,RMSE_test,abs(RMSE_test-RMSE_train)))"
   ]
  },
  {
   "cell_type": "markdown",
   "metadata": {},
   "source": [
    "## Distance"
   ]
  },
  {
   "cell_type": "code",
   "execution_count": 38,
   "metadata": {},
   "outputs": [
    {
     "name": "stdout",
     "output_type": "stream",
     "text": [
      "RMSE for distance to station feature training set is 9.165812661768193, RMSE for age test set is 12.65187816696171,and the absolute difference is 3.486065505193517\n"
     ]
    }
   ],
   "source": [
    "dist_train = train_x[train_x.columns[2]]\n",
    "theta_0,theta_1,J_values_dist = sgd(dist_train,train_y)\n",
    "RMSE_train =0\n",
    "RMSE_test = 0\n",
    "dist_test = test_x[test_x.columns[2]]\n",
    "for i in range(train_y.shape[0]):\n",
    "    RMSE_train += (train_y[i]-h(dist_train[i],theta_0,theta_1))**2\n",
    "for i in range(train_y.shape[0],data_y.shape[0]):\n",
    "    RMSE_test += (test_y[i]-h(dist_test[i],theta_0,theta_1))**2\n",
    "RMSE_train = np.sqrt(RMSE_train/train_y.shape[0])\n",
    "RMSE_test = np.sqrt(RMSE_test/(data_y.shape[0]-train_y.shape[0]))\n",
    "print('RMSE for distance to station feature training set is {0:3}, \\\n",
    "RMSE for age test set is {1:3},and the absolute difference is {2:3}'.\\\n",
    "      format(RMSE_train,RMSE_test,abs(RMSE_test-RMSE_train)))\n",
    "    \n"
   ]
  },
  {
   "cell_type": "markdown",
   "metadata": {},
   "source": [
    "## Convenience Stores"
   ]
  },
  {
   "cell_type": "code",
   "execution_count": 40,
   "metadata": {},
   "outputs": [
    {
     "name": "stdout",
     "output_type": "stream",
     "text": [
      "RMSE for distance to station feature training set is 9.834850879113743, RMSE for age test set is 14.732079954030375,and the absolute difference is 4.897229074916632\n"
     ]
    }
   ],
   "source": [
    "store_train = train_x[train_x.columns[3]]\n",
    "theta_0,theta_1,J_values_store = sgd(store_train,train_y)\n",
    "RMSE_train =0\n",
    "RMSE_test = 0\n",
    "store_test = test_x[test_x.columns[3]]\n",
    "for i in range(train_y.shape[0]):\n",
    "    RMSE_train += (train_y[i]-h(store_train[i],theta_0,theta_1))**2\n",
    "for i in range(train_y.shape[0],data_y.shape[0]):\n",
    "    RMSE_test += (test_y[i]-h(store_test[i],theta_0,theta_1))**2\n",
    "RMSE_train = np.sqrt(RMSE_train/train_y.shape[0])\n",
    "RMSE_test = np.sqrt(RMSE_test/(data_y.shape[0]-train_y.shape[0]))\n",
    "print('RMSE for distance to station feature training set is {0:3}, \\\n",
    "RMSE for age test set is {1:3},and the absolute difference is {2:3}'.\\\n",
    "      format(RMSE_train,RMSE_test,abs(RMSE_test-RMSE_train)))"
   ]
  },
  {
   "cell_type": "markdown",
   "metadata": {},
   "source": [
    "## Plot"
   ]
  },
  {
   "cell_type": "code",
   "execution_count": 46,
   "metadata": {},
   "outputs": [
    {
     "data": {
      "image/png": "[encoded data removed]",
      "text/plain": [
       "<Figure size 432x288 with 3 Axes>"
      ]
     },
     "metadata": {
      "needs_background": "light"
     },
     "output_type": "display_data"
    }
   ],
   "source": [
    "x_axis=np.arange(len(J_values_age))\n",
    "plt.subplots_adjust(hspace=3)\n",
    "\n",
    "plt.subplot(3,1,1)\n",
    "plt.plot(x_axis,J_values_age,color='red')\n",
    "plt.xlabel('iteration time')\n",
    "plt.ylabel('cost function')\n",
    "plt.title('Cost Function for House Age')\n",
    "\n",
    "plt.subplot(3,1,2)\n",
    "plt.plot(x_axis,J_values_dist,color='blue')\n",
    "plt.xlabel('iteration time')\n",
    "plt.ylabel('cost function')\n",
    "plt.title('Cost Function for Distance to Station')\n",
    "\n",
    "plt.subplot(3,1,3)\n",
    "plt.plot(x_axis,J_values_store,color='green')\n",
    "plt.xlabel('iteration time')\n",
    "plt.ylabel('cost function')\n",
    "plt.title('Cost Function for Number of Convenience Store')\n",
    "\n",
    "plt.show()"
   ]
  },
  {
   "cell_type": "code",
   "execution_count": null,
   "metadata": {},
   "outputs": [],
   "source": []
  }
 ],
 "metadata": {
  "kernelspec": {
   "display_name": "Python 3",
   "language": "python",
   "name": "python3"
  },
  "language_info": {
   "codemirror_mode": {
    "name": "ipython",
    "version": 3
   },
   "file_extension": ".py",
   "mimetype": "text/x-python",
   "name": "python",
   "nbconvert_exporter": "python",
   "pygments_lexer": "ipython3",
   "version": "3.7.4"
  }
 },
 "nbformat": 4,
 "nbformat_minor": 2
}
