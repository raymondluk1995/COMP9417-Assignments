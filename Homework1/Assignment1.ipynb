{
 "cells": [
  {
   "cell_type": "code",
   "execution_count": 120,
   "metadata": {},
   "outputs": [],
   "source": [
    "%matplotlib inline\n",
    "import pandas as pd\n",
    "import numpy as np\n",
    "import matplotlib.pyplot as plt\n",
    "import seaborn as sns\n",
    "from sklearn import datasets,linear_model\n",
    "from sklearn.metrics import mean_squared_error,r2_score\n",
    "from sklearn.model_selection import train_test_split"
   ]
  },
  {
   "cell_type": "code",
   "execution_count": 121,
   "metadata": {},
   "outputs": [],
   "source": [
    "df = pd.read_csv('house_prices.csv') \n",
    "min_list =[]\n",
    "max_list=[]\n",
    "for i in range(1,len(df.columns)):\n",
    "    min_list.append(min(df[df.columns[i]]))\n",
    "    max_list.append(max(df[df.columns[i]]))\n",
    "    df[df.columns[i]] = (df[df.columns[i]]-min_list[i-1])/(max_list[i-1]-min_list[i-1])"
   ]
  },
  {
   "cell_type": "code",
   "execution_count": 134,
   "metadata": {},
   "outputs": [
    {
     "name": "stdout",
     "output_type": "stream",
     "text": [
      "300    0.242038\n",
      "301    0.179254\n",
      "302    0.082803\n",
      "303    0.121019\n",
      "304    0.300273\n",
      "         ...   \n",
      "395    0.303913\n",
      "396    0.101911\n",
      "397    0.361237\n",
      "398    0.354868\n",
      "399    0.425842\n",
      "Name: house price of unit area, Length: 100, dtype: float64\n"
     ]
    }
   ],
   "source": [
    "# Data Split\n",
    "data_x = df.iloc[:,:-1]\n",
    "data_y = df.iloc[:,-1]\n",
    "train_x,test_x,train_y,test_y = train_test_split(data_x,data_y,test_size=0.25,shuffle=False)\n",
    "# 100 rows for testing"
   ]
  },
  {
   "cell_type": "code",
   "execution_count": 123,
   "metadata": {},
   "outputs": [],
   "source": [
    "ALPHA = 0.01\n",
    "def h(x,theta_0,theta_1):\n",
    "    return (theta_0+theta_1*x)"
   ]
  },
  {
   "cell_type": "code",
   "execution_count": 124,
   "metadata": {},
   "outputs": [],
   "source": [
    "theta_0 = -1\n",
    "theta_1 = -0.5\n",
    "age_train = train_x[train_x.columns[1]]\n",
    "theta_0_lst = [theta_0]\n",
    "theta_1_lst = [theta_1]\n",
    "for i in range(50):\n",
    "    theta_0 = theta_0 + ALPHA*(train_y[i]-h(age_train[i],theta_0,theta_1))\n",
    "    theta_1 = theta_1 + ALPHA*(train_y[i]-h(age_train[i],theta_0,theta_1))*age_train[i]\n",
    "    theta_0_lst.append(theta_0)\n",
    "    theta_1_lst.append(theta_1)"
   ]
  },
  {
   "cell_type": "code",
   "execution_count": 125,
   "metadata": {},
   "outputs": [],
   "source": [
    "iter_times = len(theta_0_lst)\n",
    "m = train_x.shape[0]\n",
    "J_values = []\n",
    "for i in range(iter_times):\n",
    "    J_value = 0\n",
    "    for j in range(m):\n",
    "        J_value += (train_y[j]-h(age_train[j],theta_0_lst[i],theta_1_lst[i]))**2\n",
    "    J_values.append(J_value/m)"
   ]
  },
  {
   "cell_type": "code",
   "execution_count": 126,
   "metadata": {},
   "outputs": [
    {
     "data": {
      "image/png": "[encoded data removed]",
      "text/plain": [
       "<Figure size 432x288 with 1 Axes>"
      ]
     },
     "metadata": {
      "needs_background": "light"
     },
     "output_type": "display_data"
    }
   ],
   "source": [
    "x_axis=np.arange(len(J_values))\n",
    "plt.plot(x_axis,J_values,color='red')\n",
    "plt.show()"
   ]
  },
  {
   "cell_type": "code",
   "execution_count": 132,
   "metadata": {},
   "outputs": [
    {
     "name": "stdout",
     "output_type": "stream",
     "text": [
      "RMSE for training set is 0.8230021322009149, and RMSE for test set is 0.8356965333739067\n"
     ]
    }
   ],
   "source": [
    "RMSE_train =0\n",
    "RMSE_test = 0\n",
    "age_test = test_x[test_x.columns[1]]\n",
    "for i in range(m):\n",
    "    RMSE_train += (train_y[i]-h(age_train[i],theta_0,theta_1))**2\n",
    "for i in range(train_y.shape[0],data_y.shape[0]):\n",
    "    RMSE_test += (test_y[i]-h(age_test[i],theta_0,theta_1))**2\n",
    "RMSE_train = np.sqrt(RMSE_train/m)\n",
    "RMSE_test = np.sqrt(RMSE_test/(data_y.shape[0]-train_y.shape[0]))\n",
    "print('RMSE for training set is {0:3}, and RMSE for test set is {1:3}'.format(RMSE_train,\\\n",
    "                                                                             RMSE_test))"
   ]
  },
  {
   "cell_type": "markdown",
   "metadata": {},
   "source": []
  },
  {
   "cell_type": "markdown",
   "metadata": {},
   "source": [
    "## Distance"
   ]
  },
  {
   "cell_type": "code",
   "execution_count": 135,
   "metadata": {},
   "outputs": [
    {
     "data": {
      "image/png": "[encoded data removed]",
      "text/plain": [
       "<Figure size 432x288 with 1 Axes>"
      ]
     },
     "metadata": {
      "needs_background": "light"
     },
     "output_type": "display_data"
    },
    {
     "name": "stdout",
     "output_type": "stream",
     "text": [
      "RMSE for training set is 0.814771483256178, and RMSE for test set is 0.9367501998679323\n"
     ]
    }
   ],
   "source": [
    "theta_0 = -1\n",
    "theta_1 = -0.5\n",
    "dist_train = train_x[train_x.columns[2]]\n",
    "theta_0_lst = [theta_0]\n",
    "theta_1_lst = [theta_1]\n",
    "for i in range(50):\n",
    "    theta_0 = theta_0 + ALPHA*(train_y[i]-h(dist_train[i],theta_0,theta_1))\n",
    "    theta_1 = theta_1 + ALPHA*(train_y[i]-h(dist_train[i],theta_0,theta_1))*dist_train[i]\n",
    "    theta_0_lst.append(theta_0)\n",
    "    theta_1_lst.append(theta_1)\n",
    "    \n",
    "iter_times = len(theta_0_lst)\n",
    "m = train_x.shape[0]\n",
    "J_values = []\n",
    "for i in range(iter_times):\n",
    "    J_value = 0\n",
    "    for j in range(m):\n",
    "        J_value += (train_y[j]-h(dist_train[j],theta_0_lst[i],theta_1_lst[i]))**2\n",
    "    J_values.append(J_value/m)\n",
    "    \n",
    "x_axis=np.arange(len(J_values))\n",
    "plt.plot(x_axis,J_values,color='red')\n",
    "plt.show()\n",
    "\n",
    "RMSE_train =0\n",
    "RMSE_test = 0\n",
    "dist_test = test_x[test_x.columns[1]]\n",
    "for i in range(m):\n",
    "    RMSE_train += (train_y[i]-h(dist_train[i],theta_0,theta_1))**2\n",
    "for i in range(train_y.shape[0],data_y.shape[0]):\n",
    "    RMSE_test += (test_y[i]-h(dist_test[i],theta_0,theta_1))**2\n",
    "RMSE_train = np.sqrt(RMSE_train/m)\n",
    "RMSE_test = np.sqrt(RMSE_test/(data_y.shape[0]-train_y.shape[0]))\n",
    "print('RMSE for training set is {0:3}, and RMSE for test set is {1:3}'.format(RMSE_train,\\\n",
    "                                                                             RMSE_test))"
   ]
  },
  {
   "cell_type": "markdown",
   "metadata": {},
   "source": [
    "## Convenience Stores"
   ]
  },
  {
   "cell_type": "code",
   "execution_count": 136,
   "metadata": {},
   "outputs": [
    {
     "data": {
      "image/png": "[encoded data removed]",
      "text/plain": [
       "<Figure size 432x288 with 1 Axes>"
      ]
     },
     "metadata": {
      "needs_background": "light"
     },
     "output_type": "display_data"
    },
    {
     "name": "stdout",
     "output_type": "stream",
     "text": [
      "RMSE for training set is 0.8336081452089373, and RMSE for test set is 0.8371512429206153\n"
     ]
    }
   ],
   "source": [
    "theta_0 = -1\n",
    "theta_1 = -0.5\n",
    "store_train = train_x[train_x.columns[3]]\n",
    "theta_0_lst = [theta_0]\n",
    "theta_1_lst = [theta_1]\n",
    "for i in range(50):\n",
    "    theta_0 = theta_0 + ALPHA*(train_y[i]-h(store_train[i],theta_0,theta_1))\n",
    "    theta_1 = theta_1 + ALPHA*(train_y[i]-h(store_train[i],theta_0,theta_1))*store_train[i]\n",
    "    theta_0_lst.append(theta_0)\n",
    "    theta_1_lst.append(theta_1)\n",
    "    \n",
    "iter_times = len(theta_0_lst)\n",
    "m = train_x.shape[0]\n",
    "J_values = []\n",
    "for i in range(iter_times):\n",
    "    J_value = 0\n",
    "    for j in range(m):\n",
    "        J_value += (train_y[j]-h(store_train[j],theta_0_lst[i],theta_1_lst[i]))**2\n",
    "    J_values.append(J_value/m)\n",
    "    \n",
    "x_axis=np.arange(len(J_values))\n",
    "plt.plot(x_axis,J_values,color='red')\n",
    "plt.show()\n",
    "\n",
    "RMSE_train =0\n",
    "RMSE_test = 0\n",
    "store_test = test_x[test_x.columns[1]]\n",
    "for i in range(m):\n",
    "    RMSE_train += (train_y[i]-h(store_train[i],theta_0,theta_1))**2\n",
    "for i in range(train_y.shape[0],data_y.shape[0]):\n",
    "    RMSE_test += (test_y[i]-h(store_test[i],theta_0,theta_1))**2\n",
    "RMSE_train = np.sqrt(RMSE_train/m)\n",
    "RMSE_test = np.sqrt(RMSE_test/(data_y.shape[0]-train_y.shape[0]))\n",
    "print('RMSE for training set is {0:3}, and RMSE for test set is {1:3}'.format(RMSE_train,\\\n",
    "                                                                             RMSE_test))"
   ]
  },
  {
   "cell_type": "code",
   "execution_count": null,
   "metadata": {},
   "outputs": [],
   "source": []
  }
 ],
 "metadata": {
  "kernelspec": {
   "display_name": "Python 3",
   "language": "python",
   "name": "python3"
  },
  "language_info": {
   "codemirror_mode": {
    "name": "ipython",
    "version": 3
   },
   "file_extension": ".py",
   "mimetype": "text/x-python",
   "name": "python",
   "nbconvert_exporter": "python",
   "pygments_lexer": "ipython3",
   "version": "3.7.4"
  }
 },
 "nbformat": 4,
 "nbformat_minor": 2
}
