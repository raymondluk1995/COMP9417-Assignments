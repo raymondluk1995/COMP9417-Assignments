{
 "cells": [
  {
   "cell_type": "code",
   "execution_count": 10,
   "metadata": {},
   "outputs": [
    {
     "name": "stdout",
     "output_type": "stream",
     "text": [
      "       A1     A2      A3    A4     A5    A6     A7    A8    A9   A10   A11  \\\n",
      "0    b'1'  22.08  11.460  b'2'   b'4'  b'4'  1.585  b'0'  b'0'   0.0  b'1'   \n",
      "1    b'0'  22.67   7.000  b'2'   b'8'  b'4'  0.165  b'0'  b'0'   0.0  b'0'   \n",
      "2    b'0'  29.58   1.750  b'1'   b'4'  b'4'  1.250  b'0'  b'0'   0.0  b'1'   \n",
      "3    b'0'  21.67  11.500  b'1'   b'5'  b'3'  0.000  b'1'  b'1'  11.0  b'1'   \n",
      "4    b'1'  20.17   8.170  b'2'   b'6'  b'4'  1.960  b'1'  b'1'  14.0  b'0'   \n",
      "..    ...    ...     ...   ...    ...   ...    ...   ...   ...   ...   ...   \n",
      "685  b'1'  31.57  10.500  b'2'  b'14'  b'4'  6.500  b'1'  b'0'   0.0  b'0'   \n",
      "686  b'1'  20.67   0.415  b'2'   b'8'  b'4'  0.125  b'0'  b'0'   0.0  b'0'   \n",
      "687  b'0'  18.83   9.540  b'2'   b'6'  b'4'  0.085  b'1'  b'0'   0.0  b'0'   \n",
      "688  b'0'  27.42  14.500  b'2'  b'14'  b'8'  3.085  b'1'  b'1'   1.0  b'0'   \n",
      "689  b'1'  41.00   0.040  b'2'  b'10'  b'4'  0.040  b'0'  b'1'   1.0  b'0'   \n",
      "\n",
      "      A12    A13     A14   A15  \n",
      "0    b'2'  100.0  1213.0  b'0'  \n",
      "1    b'2'  160.0     1.0  b'0'  \n",
      "2    b'2'  280.0     1.0  b'0'  \n",
      "3    b'2'    0.0     1.0  b'1'  \n",
      "4    b'2'   60.0   159.0  b'1'  \n",
      "..    ...    ...     ...   ...  \n",
      "685  b'2'    0.0     1.0  b'1'  \n",
      "686  b'2'    0.0    45.0  b'0'  \n",
      "687  b'2'  100.0     1.0  b'1'  \n",
      "688  b'2'  120.0    12.0  b'1'  \n",
      "689  b'1'  560.0     1.0  b'1'  \n",
      "\n",
      "[690 rows x 15 columns]\n",
      "['A1' 'A2' 'A3' 'A4' 'A5' 'A6' 'A7' 'A8' 'A9' 'A10' 'A11' 'A12' 'A13'\n",
      " 'A14' 'A15']\n"
     ]
    }
   ],
   "source": [
    "import numpy as np\n",
    "from scipy.io import arff\n",
    "import pandas as pd\n",
    "from sklearn.base import TransformerMixin\n",
    "from sklearn import tree\n",
    "from sklearn import preprocessing\n",
    "from sklearn.model_selection import train_test_split, GridSearchCV, learning_curve\n",
    "from sklearn.tree import DecisionTreeClassifier\n",
    "from sklearn.metrics import accuracy_score, f1_score, precision_score, recall_score, classification_report\n",
    "from sklearn.naive_bayes import BernoulliNB, MultinomialNB\n",
    "import sys\n",
    "import matplotlib.pyplot as plt \n",
    "%matplotlib inline\n",
    "\n",
    "# fixed random seed\n",
    "np.random.seed(1)\n",
    "def warn(*args, **kwargs):\n",
    "    pass\n",
    "import warnings\n",
    "warnings.warn = warn\n",
    "\n",
    "def label_enc(labels):\n",
    "    le = preprocessing.LabelEncoder()\n",
    "    le.fit(labels)\n",
    "    return le\n",
    "\n",
    "class DataFrameImputer(TransformerMixin):\n",
    "\n",
    "    def fit(self, X, y=None):\n",
    "\n",
    "        self.fill = pd.Series([X[c].value_counts().index[0]\n",
    "            if X[c].dtype == np.dtype('O') else X[c].mean() for c in X],\n",
    "            index=X.columns)\n",
    "\n",
    "        return self\n",
    "\n",
    "    def transform(self, X, y=None):\n",
    "        #print('self.fill is \\n',self.fill,'\\n\\n')\n",
    "        return X.fillna(self.fill)\n",
    "\n",
    "path = 'australian.arff'\n",
    "dataset = arff.loadarff(path)\n",
    "# print(dataset[0])\n",
    "data = pd.DataFrame(dataset[0])\n",
    "print(data)\n",
    "attr = np.array(data.columns)\n",
    "print(attr)\n",
    "# #print(data,'\\n\\n')\n",
    "# data = DataFrameImputer().fit_transform(data).values\n",
    "# print(data)\n",
    "# for c in data:\n",
    "#     if (data[c].dtype==np.dtype('O')):\n",
    "#         print(c,'  ',data[c].value_counts())"
   ]
  },
  {
   "cell_type": "code",
   "execution_count": 2,
   "metadata": {},
   "outputs": [
    {
     "name": "stdout",
     "output_type": "stream",
     "text": [
      "[]\n"
     ]
    }
   ],
   "source": [
    "masks = []\n",
    "for i in range(len(attr)-1):\n",
    "    if isinstance(attr[i][1],int):\n",
    "        masks.append(i)\n",
    "print(masks)"
   ]
  },
  {
   "cell_type": "code",
   "execution_count": 3,
   "metadata": {},
   "outputs": [
    {
     "name": "stdout",
     "output_type": "stream",
     "text": [
      "[0 0 0 1 1 1 0 1 0 0 1 1 0 1 0 1 1 1 0 1 0 0 0 0 0 1 0 1 1 1 1 0 0 1 0 0 1\n",
      " 1 1 1 1 0 1 0 0 1 0 1 0 1 0 0 0 0 0 1 1 0 1 1 0 0 1 0 1 1 0 0 0 1 0 0 0 1\n",
      " 1 0 0 0 0 1 1 0 0 0 0 1 0 1 1 0 0 0 0 1 0 1 0 0 0 1 0 1 1 1 0 1 1 0 1 0 0\n",
      " 0 0 1 0 1 1 1 1 1 1 0 0 1 1 0 1 0 1 1 1 0 0 0 0 0 0 1 1 1 0 0 0 1 0 1 1 0\n",
      " 0 1 1 0 0 0 1 1 1 0 1 0 0 0 1 1 0 0 0 1 0 0 0 1 0 0 1 0 0 0 1 1 0 0 1 1 1\n",
      " 0 0 0 0 0 0 1 0 0 0 1 1 0 0 0 1 0 1 0 1 1 0 0 0 0 1 1 0 0 0 1 0 0 0 1 1 0\n",
      " 1 0 0 0 0 1 1 1 1 0 0 1 1 1 0 0 0 1 1 1 1 0 0 0 0 1 1 1 0 0 1 0 1 1 1 1 0\n",
      " 0 0 1 0 1 1 0 0 1 0 0 0 1 0 1 1 0 0 0 1 1 0 0 0 0 0 1 1 1 0 0 0 0 1 1 1 0\n",
      " 0 0 1 0 1 0 0 0 0 1 0 1 0 0 0 0 0 1 1 0 0 1 0 1 1 1 1 1 1 1 0 0 0 0 1 1 1\n",
      " 0 0 0 1 0 1 0 0 0 1 1 1 1 1 1 1 0 1 0 1 0 0 0 0 0 1 0 1 1 0 0 0 0 0 1 0 1\n",
      " 1 0 0 0 1 1 1 0 0 1 1 0 0 0 1 1 0 1 1 1 1 0 0 1 1 0 0 0 0 0 0 1 0 0 0 1 1\n",
      " 0 1 0 0 0 1 1 1 0 0 1 0 1 1 1 0 1 0 0 1 0 0 0 1 0 0 1 0 1 0 1 1 0 1 0 0 1\n",
      " 0 1 1 0 0 0 0 0 1 1 0 0 1 1 0 1 0 1 0 1 0 1 1 0 1 0 1 1 1 0 0 0 0 0 1 0 1\n",
      " 0 0 0 1 1 1 1 1 0 1 1 0 0 0 1 1 1 1 1 1 0 1 1 1 1 0 0 0 0 0 0 0 1 0 0 1 1\n",
      " 1 0 1 0 0 1 1 0 1 0 0 0 0 0 0 1 0 1 0 1 1 1 0 0 1 0 0 0 0 0 0 0 1 1 0 0 0\n",
      " 0 0 1 0 1 0 1 0 0 1 1 1 0 0 0 0 0 1 0 1 1 0 0 0 0 0 1 1 1 0 1 0 1 1 0 0 1\n",
      " 0 1 0 0 1 1 0 1 0 1 1 1 1 0 0 1 0 1 1 0 1 0 1 1 0 0 0 1 0 1 1 0 1 0 0 0 0\n",
      " 0 1 0 1 0 0 0 0 0 0 1 0 1 1 0 0 0 0 0 0 1 1 0 0 1 0 0 1 0 0 1 1 0 1 1 0 0\n",
      " 0 0 0 0 1 1 0 1 1 0 0 0 0 1 0 0 1 0 1 1 0 1 1 1]\n"
     ]
    }
   ],
   "source": [
    "X = data[:,0:data.shape[1]-1]\n",
    "lenc = label_enc(data[:,data.shape[1]-1])\n",
    "y = lenc.transform(data[:,data.shape[1]-1])\n",
    "print(y)"
   ]
  },
  {
   "cell_type": "code",
   "execution_count": 11,
   "metadata": {},
   "outputs": [
    {
     "data": {
      "text/plain": [
       "array([ 2,  3,  4,  5,  6,  7,  8,  9, 10, 11, 12, 13, 14, 15, 16, 17, 18,\n",
       "       19, 20])"
      ]
     },
     "execution_count": 11,
     "metadata": {},
     "output_type": "execute_result"
    }
   ],
   "source": [
    "np.arange(2,21)"
   ]
  },
  {
   "cell_type": "code",
   "execution_count": null,
   "metadata": {},
   "outputs": [],
   "source": []
  }
 ],
 "metadata": {
  "kernelspec": {
   "display_name": "Python 3",
   "language": "python",
   "name": "python3"
  },
  "language_info": {
   "codemirror_mode": {
    "name": "ipython",
    "version": 3
   },
   "file_extension": ".py",
   "mimetype": "text/x-python",
   "name": "python",
   "nbconvert_exporter": "python",
   "pygments_lexer": "ipython3",
   "version": "3.7.4"
  }
 },
 "nbformat": 4,
 "nbformat_minor": 2
}
